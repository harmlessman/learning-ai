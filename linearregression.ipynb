{
 "cells": [
  {
   "cell_type": "code",
   "execution_count": 20,
   "metadata": {},
   "outputs": [
    {
     "name": "stdout",
     "output_type": "stream",
     "text": [
      "[[1 2 3 4]\n",
      " [5 6 7 8]] \n",
      "\n",
      "A.shape ==  (2, 4) \n",
      "\n",
      "(0, 0) current value =>  1\n",
      "(0, 1) current value =>  2\n",
      "(0, 2) current value =>  3\n",
      "(0, 3) current value =>  4\n",
      "(1, 0) current value =>  5\n",
      "(1, 1) current value =>  6\n",
      "(1, 2) current value =>  7\n",
      "(1, 3) current value =>  8\n"
     ]
    }
   ],
   "source": [
    "import numpy as np\n",
    "\n",
    "A = np.array([[1, 2, 3, 4], [5, 6, 7, 8]])\n",
    "\n",
    "print(A, \"\\n\")\n",
    "print(\"A.shape == \", A.shape, \"\\n\")\n",
    "\n",
    "it = np.nditer(A, flags=['multi_index'], op_flags=['readwrite'])\n",
    "while not it.finished:\n",
    "    idx = it.multi_index\n",
    "    print(idx, \"current value => \", A[idx])\n",
    "    it.iternext()\n"
   ]
  },
  {
   "cell_type": "code",
   "execution_count": 23,
   "metadata": {},
   "outputs": [],
   "source": [
    "import numpy as np\n",
    "x_data = np.array([1, 2, 3, 4, 5]).reshape(5,1) # 입력데이터 초기화\n",
    "t_data = np.array([2, 3, 4, 5, 6]).reshape(5,1) # 정답데이터 초기화\n",
    "W = np.random.rand(1,1) # 가중치 W 초기화\n",
    "b = np.random.rand(1) # 바이어스 b 초기화\n"
   ]
  },
  {
   "cell_type": "code",
   "execution_count": 24,
   "metadata": {},
   "outputs": [],
   "source": [
    "def loss_func(x, t):# 손실함수\n",
    " y = np.dot(x,W) + b\n",
    " return (np.sum((t - y)**2 )) / (len(x))"
   ]
  },
  {
   "cell_type": "code",
   "execution_count": 25,
   "metadata": {},
   "outputs": [],
   "source": [
    "def loss_val(x,t):\n",
    "    y=np.dot(x,W)+b\n",
    "    return (np.sum((t-y)**2))/len(x)"
   ]
  },
  {
   "cell_type": "code",
   "execution_count": 26,
   "metadata": {},
   "outputs": [],
   "source": [
    "def numerical_derivative(f, x):\n",
    " delta_x = 1e-4 # 0.0001\n",
    " grad = np.zeros_like(x) \n",
    " it = np.nditer(x, flags=['multi_index'], op_flags=['readwrite'])\n",
    " while not it.finished:\n",
    "        idx=it.multi_index\n",
    "        tmp_val = x[idx]\n",
    "        x[idx] = float(tmp_val) + delta_x\n",
    "        fx1 = f(x) # f(x+delta_x)\n",
    "        x[idx] = float(tmp_val) - delta_x\n",
    "        fx2 = f(x) # f(x-delta_x)\n",
    "        grad[idx] = (fx1 - fx2) / (2*delta_x)\n",
    "        x[idx] = tmp_val\n",
    "        it.iternext()\n",
    "        return grad"
   ]
  },
  {
   "cell_type": "code",
   "execution_count": 27,
   "metadata": {},
   "outputs": [
    {
     "name": "stdout",
     "output_type": "stream",
     "text": [
      "Initial loss value =  3.004821909677304 Initial W =  [[0.64869001]] \n",
      " , b =  [0.39321189]\n",
      "step =  0 loss value =  1.7853883735630305 W = [[0.7623855]] b = [0.41960452]\n",
      "step =  300 loss value =  0.0057577979079109515 W = [[1.04927481]] b = [0.82214585]\n",
      "step =  600 loss value =  0.0007309742996667468 W = [[1.0175569]] b = [0.93662954]\n",
      "step =  900 loss value =  9.279996195062892e-05 W = [[1.00625562]] b = [0.97742074]\n",
      "step =  1200 loss value =  1.1781307416636987e-05 W = [[1.00222891]] b = [0.99195488]\n",
      "step =  1500 loss value =  1.4956816956366062e-06 W = [[1.00079418]] b = [0.99713348]\n",
      "step =  1800 loss value =  1.8988246851975446e-07 W = [[1.00028297]] b = [0.99897864]\n",
      "step =  2100 loss value =  2.410630012800087e-08 W = [[1.00010082]] b = [0.99963608]\n",
      "step =  2400 loss value =  3.0603863031276035e-09 W = [[1.00003592]] b = [0.99987033]\n",
      "step =  2700 loss value =  3.8852765768833244e-10 W = [[1.0000128]] b = [0.9999538]\n",
      "step =  3000 loss value =  4.932506090422834e-11 W = [[1.00000456]] b = [0.99998354]\n",
      "step =  3300 loss value =  6.2620037096995525e-12 W = [[1.00000163]] b = [0.99999413]\n",
      "step =  3600 loss value =  7.9498513974414e-13 W = [[1.00000058]] b = [0.99999791]\n",
      "step =  3900 loss value =  1.0092638101785789e-13 W = [[1.00000021]] b = [0.99999926]\n",
      "step =  4200 loss value =  1.2812987292490309e-14 W = [[1.00000007]] b = [0.99999973]\n",
      "step =  4500 loss value =  1.6266573633486133e-15 W = [[1.00000003]] b = [0.99999991]\n",
      "step =  4800 loss value =  2.0651032633455195e-16 W = [[1.00000001]] b = [0.99999997]\n",
      "step =  5100 loss value =  2.6217269747132568e-17 W = [[1.]] b = [0.99999999]\n",
      "step =  5400 loss value =  3.3283825077981485e-18 W = [[1.]] b = [1.]\n",
      "step =  5700 loss value =  4.225508019070961e-19 W = [[1.]] b = [1.]\n",
      "step =  6000 loss value =  5.364445787554296e-20 W = [[1.]] b = [1.]\n"
     ]
    }
   ],
   "source": [
    "learning_rate = 1e-2 # 학습율 α\n",
    "f = lambda x : loss_func(x_data, t_data) \n",
    "print(\"Initial loss value = \", loss_func(x_data, t_data), \"Initial W = \", W, \"\\n\", \", b = \", b )\n",
    "for step in range(6001):\n",
    " W -= learning_rate * numerical_derivative(f, W) \n",
    " b -= learning_rate * numerical_derivative(f, b)\n",
    " if (step % 300 == 0): # 추가부분\n",
    "  print(\"step = \", step, \"loss value = \", loss_val(x_data, t_data), \"W =\", W, \"b =\", b)"
   ]
  },
  {
   "cell_type": "code",
   "execution_count": 33,
   "metadata": {},
   "outputs": [
    {
     "name": "stdout",
     "output_type": "stream",
     "text": [
      "x_data.ndim =  2 , x_data.shape =  (9, 3)\n",
      "t_data.ndim =  2 , t_data.shape =  (9, 1)\n"
     ]
    }
   ],
   "source": [
    "import numpy as np\n",
    "loaded_data = np.loadtxt('./titanic/data_01.csv', delimiter=',', dtype=np.float32)\n",
    "x_data = loaded_data[:, 0:-1]\n",
    "t_data = loaded_data[:, [-1]] \n",
    "# 데이터 차원 및 shape 확인\n",
    "print(\"x_data.ndim = \", x_data.ndim, \", x_data.shape = \", x_data.shape)\n",
    "print(\"t_data.ndim = \", t_data.ndim, \", t_data.shape = \", t_data.shape)"
   ]
  },
  {
   "cell_type": "code",
   "execution_count": 34,
   "metadata": {},
   "outputs": [
    {
     "name": "stdout",
     "output_type": "stream",
     "text": [
      "W =  [[0.37454012]\n",
      " [0.95071431]\n",
      " [0.73199394]] , W.shape =  (3, 1) , b =  [0.59865848] , b.shape =  (1,)\n"
     ]
    }
   ],
   "source": [
    "np.random.seed(42)\n",
    "W = np.random.rand(3,1) # 가중치 W 초기화\n",
    "b = np.random.rand(1) # 바이어스 b 초기화\n",
    "print(\"W = \", W, \", W.shape = \", W.shape, \", b = \", b, \", b.shape = \", b.shape)"
   ]
  },
  {
   "cell_type": "code",
   "execution_count": 42,
   "metadata": {},
   "outputs": [
    {
     "name": "stdout",
     "output_type": "stream",
     "text": [
      "Initial loss value =  7.58334509101228\n",
      "step =  0 loss value =  7.583345067999896\n",
      "step =  300 loss value =  7.5833381661353645\n",
      "step =  600 loss value =  7.583331267986452\n",
      "step =  900 loss value =  7.583324373551201\n",
      "step =  1200 loss value =  7.58331748282747\n",
      "step =  1500 loss value =  7.583310595813389\n",
      "step =  1800 loss value =  7.5833037125069245\n",
      "step =  2100 loss value =  7.583296832906033\n",
      "step =  2400 loss value =  7.583289957008812\n",
      "step =  2700 loss value =  7.5832830848131705\n",
      "step =  3000 loss value =  7.583276216317182\n",
      "step =  3300 loss value =  7.583269351518835\n",
      "step =  3600 loss value =  7.583262490416128\n",
      "step =  3900 loss value =  7.583255633007083\n",
      "step =  4200 loss value =  7.583248779289702\n",
      "step =  4500 loss value =  7.583241929262081\n",
      "step =  4800 loss value =  7.5832350829220525\n",
      "step =  5100 loss value =  7.583228240267762\n",
      "step =  5400 loss value =  7.583221401297212\n",
      "step =  5700 loss value =  7.583214566008419\n",
      "step =  6000 loss value =  7.583207734399368\n",
      "step =  6300 loss value =  7.58320090646813\n",
      "step =  6600 loss value =  7.5831940822126755\n",
      "step =  6900 loss value =  7.583187261631057\n",
      "step =  7200 loss value =  7.583180444721254\n",
      "step =  7500 loss value =  7.583173631481348\n",
      "step =  7800 loss value =  7.583166821909316\n",
      "step =  8100 loss value =  7.583160016003183\n",
      "step =  8400 loss value =  7.5831532137610225\n",
      "step =  8700 loss value =  7.583146415180868\n",
      "step =  9000 loss value =  7.583139620260653\n",
      "step =  9300 loss value =  7.583132828998482\n",
      "step =  9600 loss value =  7.583126041392396\n",
      "step =  9900 loss value =  7.583119257440383\n",
      "step =  10200 loss value =  7.583112477140484\n",
      "step =  10500 loss value =  7.5831057004908\n",
      "step =  10800 loss value =  7.583098927489305\n",
      "step =  11100 loss value =  7.583092158133941\n",
      "step =  11400 loss value =  7.583085392422926\n",
      "step =  11700 loss value =  7.583078630354194\n",
      "step =  12000 loss value =  7.583071871925863\n",
      "step =  12300 loss value =  7.583065117135877\n",
      "step =  12600 loss value =  7.583058365982284\n",
      "step =  12900 loss value =  7.583051618463175\n",
      "step =  13200 loss value =  7.583044874576605\n",
      "step =  13500 loss value =  7.58303813432056\n",
      "step =  13800 loss value =  7.58303139769318\n",
      "step =  14100 loss value =  7.583024664692382\n",
      "step =  14400 loss value =  7.583017935316279\n",
      "step =  14700 loss value =  7.583011209562987\n",
      "step =  15000 loss value =  7.583004487430401\n",
      "step =  15300 loss value =  7.5829977689167265\n",
      "step =  15600 loss value =  7.582991054019901\n",
      "step =  15900 loss value =  7.582984342738033\n",
      "step =  16200 loss value =  7.582977635069217\n",
      "step =  16500 loss value =  7.5829709310114595\n",
      "step =  16800 loss value =  7.5829642305627925\n",
      "step =  17100 loss value =  7.582957533721262\n",
      "step =  17400 loss value =  7.5829508404850055\n",
      "step =  17700 loss value =  7.582944150852033\n",
      "step =  18000 loss value =  7.58293746482041\n",
      "step =  18300 loss value =  7.582930782388177\n",
      "step =  18600 loss value =  7.582924103553444\n",
      "step =  18900 loss value =  7.582917428314254\n",
      "step =  19200 loss value =  7.582910756668612\n",
      "step =  19500 loss value =  7.582904088614677\n",
      "step =  19800 loss value =  7.582897424150447\n",
      "step =  20100 loss value =  7.582890763274047\n",
      "step =  20400 loss value =  7.5828841059834815\n",
      "step =  20700 loss value =  7.582877452276929\n",
      "step =  21000 loss value =  7.582870802152292\n",
      "step =  21300 loss value =  7.582864155607764\n",
      "step =  21600 loss value =  7.582857512641444\n",
      "step =  21900 loss value =  7.582850873251276\n",
      "step =  22200 loss value =  7.58284423743546\n",
      "step =  22500 loss value =  7.582837605191985\n",
      "step =  22800 loss value =  7.582830976518995\n",
      "step =  23100 loss value =  7.582824351414552\n",
      "step =  23400 loss value =  7.58281772987667\n",
      "step =  23700 loss value =  7.582811111903459\n",
      "step =  24000 loss value =  7.582804497493104\n",
      "step =  24300 loss value =  7.582797886643529\n",
      "step =  24600 loss value =  7.582791279352922\n",
      "step =  24900 loss value =  7.582784675619355\n",
      "step =  25200 loss value =  7.582778075440863\n",
      "step =  25500 loss value =  7.5827714788155545\n",
      "step =  25800 loss value =  7.582764885741554\n",
      "step =  26100 loss value =  7.582758296216911\n",
      "step =  26400 loss value =  7.5827517102397115\n",
      "step =  26700 loss value =  7.582745127808078\n",
      "step =  27000 loss value =  7.582738548920058\n",
      "step =  27300 loss value =  7.5827319735738\n",
      "step =  27600 loss value =  7.582725401767356\n",
      "step =  27900 loss value =  7.5827188334988005\n",
      "step =  28200 loss value =  7.582712268766311\n",
      "step =  28500 loss value =  7.58270570756789\n",
      "step =  28800 loss value =  7.582699149901663\n",
      "step =  29100 loss value =  7.582692595765764\n",
      "step =  29400 loss value =  7.582686045158253\n",
      "step =  29700 loss value =  7.582679498077297\n",
      "step =  30000 loss value =  7.582672954520929\n"
     ]
    }
   ],
   "source": [
    "learning_rate = 1e-5\n",
    "f = lambda x : loss_func(x_data,t_data)\n",
    "print(\"Initial loss value = \", loss_func(x_data, t_data) )\n",
    "for step in range(30001):\n",
    " W -= learning_rate * numerical_derivative(f, W) \n",
    " b -= learning_rate * numerical_derivative(f, b)\n",
    " if (step % 300 == 0):\n",
    "     print(\"step = \", step, \"loss value = \", loss_func(x_data, t_data) )"
   ]
  },
  {
   "cell_type": "code",
   "execution_count": 43,
   "metadata": {},
   "outputs": [],
   "source": [
    "def predict(x):\n",
    "    y=np.dot(x,W)+b\n",
    "    return y\n"
   ]
  },
  {
   "cell_type": "code",
   "execution_count": 44,
   "metadata": {},
   "outputs": [
    {
     "data": {
      "text/plain": [
       "array([186.14939491])"
      ]
     },
     "execution_count": 44,
     "metadata": {},
     "output_type": "execute_result"
    }
   ],
   "source": [
    "z=np.array([100,98,81])\n",
    "predict(z)"
   ]
  },
  {
   "cell_type": "code",
   "execution_count": 45,
   "metadata": {},
   "outputs": [
    {
     "name": "stdout",
     "output_type": "stream",
     "text": [
      "slope: 0.8744839346616406\n",
      "intercept: -26.723837731107523\n",
      "r_value: 0.8880668255497455\n",
      "p_value: 0.00321829451984264\n",
      "std_err: 0.18480710092393707\n"
     ]
    }
   ],
   "source": [
    "from scipy import stats \n",
    "x = [32,64,96,118,126,144,152,158]\n",
    "y = [18,24,61.5,49,52,105,130,125]\n",
    "slope, intercept, r_value, p_value, std_err = stats.linregress(x,y) # 선형 최소 제곱 회귀를 계산.\n",
    "print(\"slope: {}\\nintercept: {}\\nr_value: {}\\np_value: {}\\nstd_err: {}\"\\\n",
    " .format(slope, intercept, r_value, p_value, std_err))\n",
    "\n"
   ]
  },
  {
   "cell_type": "code",
   "execution_count": 46,
   "metadata": {},
   "outputs": [
    {
     "data": {
      "image/png": "[encoded data removed]",
      "text/plain": [
       "<Figure size 432x288 with 1 Axes>"
      ]
     },
     "metadata": {
      "needs_background": "light"
     },
     "output_type": "display_data"
    }
   ],
   "source": [
    "import numpy as np\n",
    "import matplotlib.pyplot as plt\n",
    "plt.scatter(x, y)\n",
    "plt.plot(x, slope*np.array(x) + intercept, '-')\n",
    "plt.show()"
   ]
  },
  {
   "cell_type": "code",
   "execution_count": 47,
   "metadata": {},
   "outputs": [
    {
     "ename": "SyntaxError",
     "evalue": "invalid syntax (<ipython-input-47-484900b73eed>, line 1)",
     "output_type": "error",
     "traceback": [
      "\u001b[1;36m  File \u001b[1;32m\"<ipython-input-47-484900b73eed>\"\u001b[1;36m, line \u001b[1;32m1\u001b[0m\n\u001b[1;33m    예제2 - 다중 회귀 분석\u001b[0m\n\u001b[1;37m             ^\u001b[0m\n\u001b[1;31mSyntaxError\u001b[0m\u001b[1;31m:\u001b[0m invalid syntax\n"
     ]
    }
   ],
   "source": [
    "예제2 - 다중 회귀 분석\n",
    "from sklearn.datasets import load_boston\n",
    "boston = load_boston()\n",
    "X = boston.data\n",
    "y = boston.target\n",
    "# 데이터 분핛하기\n",
    "from sklearn.model_selection import train_test_split\n",
    "X_train, X_test, y_train, y_test = train_test_split(X, y, test_size=0.3)\n",
    "# MinMaxScaler : 최대/최소값이 각각 1, 0이 되도록 스케일링\n",
    "from sklearn.preprocessing import MinMaxScaler\n",
    "scaler = MinMaxScaler(feature_range=(0,1))\n",
    "scaler.fit(X_train)\n",
    "X_train_scaled = scaler.transform(X_train)\n",
    "X_test_scaled = scaler.transform(X_test)\n",
    "# scikit-learn 패키지를 사용하여 선형 회귀분석을 하는 경우에는 linear_model 서브 패키지의\n",
    "LinearRegression 클래스를 사용핚다.\n",
    "from sklearn.linear_model import LinearRegression\n",
    "# 회귀분석을 하고 나면 모형 객체는 다음과 같은 속성을 가지게 된다. 또핚 fit 메서드는 객체 자싞을 반홖\n",
    "model_boston = LinearRegression().fit(X_train_scaled, y_train)\n",
    "print(model_boston.coef_) # coef_ : 추정된 가중치 벡터(W)\n",
    "print(model_boston.intercept_) # intercept_ : 추정된 상수항(b)"
   ]
  },
  {
   "cell_type": "code",
   "execution_count": 49,
   "metadata": {},
   "outputs": [
    {
     "name": "stdout",
     "output_type": "stream",
     "text": [
      "[-10.89821846   3.06956963  -0.75154061   3.50082433  -9.6563322\n",
      "  16.96671341   0.58571427 -17.47536681   6.74419607  -4.76095948\n",
      "  -9.67476531   3.56009952 -19.77032628]\n",
      "29.604311867028695\n"
     ]
    }
   ],
   "source": [
    "from sklearn.datasets import load_boston\n",
    "boston = load_boston()\n",
    "X = boston.data\n",
    "y = boston.target\n",
    "# 데이터 분핛하기\n",
    "from sklearn.model_selection import train_test_split\n",
    "X_train, X_test, y_train, y_test = train_test_split(X, y, test_size=0.3)\n",
    "# MinMaxScaler : 최대/최소값이 각각 1, 0이 되도록 스케일링\n",
    "from sklearn.preprocessing import MinMaxScaler\n",
    "scaler = MinMaxScaler(feature_range=(0,1))\n",
    "scaler.fit(X_train)\n",
    "X_train_scaled = scaler.transform(X_train)\n",
    "X_test_scaled = scaler.transform(X_test)\n",
    "# scikit-learn 패키지를 사용하여 선형 회귀분석을 하는 경우에는 linear_model 서브 패키지의\n",
    "\n",
    "from sklearn.linear_model import LinearRegression\n",
    "# 회귀분석을 하고 나면 모형 객체는 다음과 같은 속성을 가지게 된다. 또핚 fit 메서드는 객체 자싞을 반홖\n",
    "model_boston = LinearRegression().fit(X_train_scaled, y_train)\n",
    "print(model_boston.coef_) # coef_ : 추정된 가중치 벡터(W)\n",
    "print(model_boston.intercept_) # intercept_ : 추정된 상수항(b)"
   ]
  },
  {
   "cell_type": "code",
   "execution_count": 50,
   "metadata": {},
   "outputs": [
    {
     "ename": "NameError",
     "evalue": "name 'sm' is not defined",
     "output_type": "error",
     "traceback": [
      "\u001b[1;31m---------------------------------------------------------------------------\u001b[0m",
      "\u001b[1;31mNameError\u001b[0m                                 Traceback (most recent call last)",
      "\u001b[1;32m<ipython-input-50-f084cb1553c1>\u001b[0m in \u001b[0;36m<module>\u001b[1;34m\u001b[0m\n\u001b[1;32m----> 1\u001b[1;33m \u001b[0mBoston\u001b[0m \u001b[1;33m=\u001b[0m \u001b[0msm\u001b[0m\u001b[1;33m.\u001b[0m\u001b[0mdatasets\u001b[0m\u001b[1;33m.\u001b[0m\u001b[0mget_rdataset\u001b[0m\u001b[1;33m(\u001b[0m\u001b[1;34m\"Boston\"\u001b[0m\u001b[1;33m,\u001b[0m \u001b[0mpackage\u001b[0m\u001b[1;33m=\u001b[0m\u001b[1;34m\"MASS\"\u001b[0m\u001b[1;33m)\u001b[0m\u001b[1;33m\u001b[0m\u001b[1;33m\u001b[0m\u001b[0m\n\u001b[0m\u001b[0;32m      2\u001b[0m \u001b[0mboston_df\u001b[0m \u001b[1;33m=\u001b[0m \u001b[0mBoston\u001b[0m\u001b[1;33m.\u001b[0m\u001b[0mdata\u001b[0m\u001b[1;33m\u001b[0m\u001b[1;33m\u001b[0m\u001b[0m\n\u001b[0;32m      3\u001b[0m \u001b[0mformula\u001b[0m \u001b[1;33m=\u001b[0m \u001b[1;34m\"medv~\"\u001b[0m \u001b[1;33m+\u001b[0m \u001b[1;34m\"+\"\u001b[0m\u001b[1;33m.\u001b[0m\u001b[0mjoin\u001b[0m\u001b[1;33m(\u001b[0m\u001b[0mboston_df\u001b[0m\u001b[1;33m.\u001b[0m\u001b[0miloc\u001b[0m\u001b[1;33m[\u001b[0m\u001b[1;33m:\u001b[0m\u001b[1;33m,\u001b[0m \u001b[1;33m:\u001b[0m\u001b[1;33m-\u001b[0m\u001b[1;36m1\u001b[0m\u001b[1;33m]\u001b[0m\u001b[1;33m.\u001b[0m\u001b[0mcolumns\u001b[0m\u001b[1;33m)\u001b[0m\u001b[1;33m\u001b[0m\u001b[1;33m\u001b[0m\u001b[0m\n\u001b[0;32m      4\u001b[0m \u001b[0mformula\u001b[0m\u001b[1;33m\u001b[0m\u001b[1;33m\u001b[0m\u001b[0m\n",
      "\u001b[1;31mNameError\u001b[0m: name 'sm' is not defined"
     ]
    }
   ],
   "source": [
    "Boston = sm.datasets.get_rdataset(\"Boston\", package=\"MASS\")\n",
    "boston_df = Boston.data\n",
    "formula = \"medv~\" + \"+\".join(boston_df.iloc[:, :-1].columns)\n",
    "formula"
   ]
  },
  {
   "cell_type": "code",
   "execution_count": 51,
   "metadata": {},
   "outputs": [
    {
     "data": {
      "text/plain": [
       "'medv~crim+zn+indus+chas+nox+rm+age+dis+rad+tax+ptratio+black+lstat'"
      ]
     },
     "execution_count": 51,
     "metadata": {},
     "output_type": "execute_result"
    }
   ],
   "source": [
    "import statsmodels.api as sm\n",
    "Boston = sm.datasets.get_rdataset(\"Boston\", package=\"MASS\")\n",
    "boston_df = Boston.data\n",
    "formula = \"medv~\" + \"+\".join(boston_df.iloc[:, :-1].columns)\n",
    "formula\n"
   ]
  },
  {
   "cell_type": "code",
   "execution_count": 52,
   "metadata": {},
   "outputs": [],
   "source": [
    "from patsy import dmatrices # 디자인 행렬 수행\n",
    "# boston_df에서 formula에서 정의하지 않은 요소는 y(종속변수:medv컬럼)에\n",
    "# 정의핚 요소는 X(독립변수:나머지)에 저장\n",
    "# dmatrices()를 이용해서 boston_df에서 종속변수와 독립변수를 분리하는 작업 수행\n",
    "y, X = dmatrices(formula, boston_df, return_type=\"dataframe\")\n",
    "import pandas as pd\n",
    "vif = pd.DataFrame()"
   ]
  },
  {
   "cell_type": "code",
   "execution_count": 53,
   "metadata": {},
   "outputs": [
    {
     "data": {
      "text/plain": [
       "(506, 14)"
      ]
     },
     "execution_count": 53,
     "metadata": {},
     "output_type": "execute_result"
    }
   ],
   "source": [
    "X.shape\n"
   ]
  },
  {
   "cell_type": "code",
   "execution_count": 54,
   "metadata": {},
   "outputs": [
    {
     "data": {
      "text/plain": [
       "0.4384009113704955"
      ]
     },
     "execution_count": 54,
     "metadata": {},
     "output_type": "execute_result"
    }
   ],
   "source": [
    "from sklearn.datasets import load_diabetes\n",
    "from sklearn.model_selection import train_test_split\n",
    "data = load_diabetes()\n",
    "X_train, X_test, y_train, y_test = train_test_split(data.data, data.target, random_state=42)\n",
    "# Ridge Regression 모델\n",
    "from sklearn.linear_model import Ridge\n",
    "ridge = Ridge(alpha=1.0) # 하이퍼 파라미터\n",
    "ridge.fit(X_train, y_train)\n",
    "ridge.score(X_test, y_test)\n"
   ]
  },
  {
   "cell_type": "code",
   "execution_count": 55,
   "metadata": {},
   "outputs": [
    {
     "data": {
      "text/plain": [
       "0.37914194389255096"
      ]
     },
     "execution_count": 55,
     "metadata": {},
     "output_type": "execute_result"
    }
   ],
   "source": [
    "from sklearn.linear_model import Lasso\n",
    "lasso = Lasso(alpha=1.0) # 하이퍼 파라미터\n",
    "lasso.fit(X_train, y_train)\n",
    "lasso.score(X_test, y_test)"
   ]
  },
  {
   "cell_type": "code",
   "execution_count": 56,
   "metadata": {},
   "outputs": [
    {
     "data": {
      "text/plain": [
       "-0.0044383730131891674"
      ]
     },
     "execution_count": 56,
     "metadata": {},
     "output_type": "execute_result"
    }
   ],
   "source": [
    "# Elastic-net Regression 모델\n",
    "from sklearn.linear_model import ElasticNet\n",
    "elastic = ElasticNet(alpha=1.0, l1_ratio=0.5) # 하이퍼 파라미터\n",
    "elastic.fit(X_train, y_train)\n",
    "elastic.score(X_test, y_test)"
   ]
  },
  {
   "cell_type": "code",
   "execution_count": 57,
   "metadata": {},
   "outputs": [
    {
     "data": {
      "text/plain": [
       "array([[-0.00551455, -0.04464164,  0.04229559, ..., -0.03949338,\n",
       "         0.05228   ,  0.02791705],\n",
       "       [ 0.06350368, -0.04464164, -0.05039625, ...,  0.02360753,\n",
       "         0.05803913,  0.04034337],\n",
       "       [ 0.0090156 , -0.04464164,  0.05522933, ...,  0.02323852,\n",
       "         0.05568355,  0.10661708],\n",
       "       ...,\n",
       "       [ 0.03081083, -0.04464164, -0.02021751, ..., -0.03949338,\n",
       "        -0.01090444, -0.0010777 ],\n",
       "       [-0.01277963, -0.04464164, -0.02345095, ..., -0.00259226,\n",
       "        -0.03845911, -0.03835666],\n",
       "       [-0.09269548, -0.04464164,  0.02828403, ..., -0.03949338,\n",
       "        -0.00514531, -0.0010777 ]])"
      ]
     },
     "execution_count": 57,
     "metadata": {},
     "output_type": "execute_result"
    }
   ],
   "source": [
    "X_train\n"
   ]
  },
  {
   "cell_type": "code",
   "execution_count": 58,
   "metadata": {},
   "outputs": [
    {
     "ename": "AttributeError",
     "evalue": "info",
     "output_type": "error",
     "traceback": [
      "\u001b[1;31m---------------------------------------------------------------------------\u001b[0m",
      "\u001b[1;31mKeyError\u001b[0m                                  Traceback (most recent call last)",
      "\u001b[1;32m~\\anaconda3\\lib\\site-packages\\sklearn\\utils\\__init__.py\u001b[0m in \u001b[0;36m__getattr__\u001b[1;34m(self, key)\u001b[0m\n\u001b[0;32m     95\u001b[0m         \u001b[1;32mtry\u001b[0m\u001b[1;33m:\u001b[0m\u001b[1;33m\u001b[0m\u001b[1;33m\u001b[0m\u001b[0m\n\u001b[1;32m---> 96\u001b[1;33m             \u001b[1;32mreturn\u001b[0m \u001b[0mself\u001b[0m\u001b[1;33m[\u001b[0m\u001b[0mkey\u001b[0m\u001b[1;33m]\u001b[0m\u001b[1;33m\u001b[0m\u001b[1;33m\u001b[0m\u001b[0m\n\u001b[0m\u001b[0;32m     97\u001b[0m         \u001b[1;32mexcept\u001b[0m \u001b[0mKeyError\u001b[0m\u001b[1;33m:\u001b[0m\u001b[1;33m\u001b[0m\u001b[1;33m\u001b[0m\u001b[0m\n",
      "\u001b[1;31mKeyError\u001b[0m: 'info'",
      "\nDuring handling of the above exception, another exception occurred:\n",
      "\u001b[1;31mAttributeError\u001b[0m                            Traceback (most recent call last)",
      "\u001b[1;32m<ipython-input-58-6208d269f320>\u001b[0m in \u001b[0;36m<module>\u001b[1;34m\u001b[0m\n\u001b[1;32m----> 1\u001b[1;33m \u001b[0mdata\u001b[0m\u001b[1;33m.\u001b[0m\u001b[0minfo\u001b[0m\u001b[1;33m(\u001b[0m\u001b[1;33m)\u001b[0m\u001b[1;33m\u001b[0m\u001b[1;33m\u001b[0m\u001b[0m\n\u001b[0m",
      "\u001b[1;32m~\\anaconda3\\lib\\site-packages\\sklearn\\utils\\__init__.py\u001b[0m in \u001b[0;36m__getattr__\u001b[1;34m(self, key)\u001b[0m\n\u001b[0;32m     96\u001b[0m             \u001b[1;32mreturn\u001b[0m \u001b[0mself\u001b[0m\u001b[1;33m[\u001b[0m\u001b[0mkey\u001b[0m\u001b[1;33m]\u001b[0m\u001b[1;33m\u001b[0m\u001b[1;33m\u001b[0m\u001b[0m\n\u001b[0;32m     97\u001b[0m         \u001b[1;32mexcept\u001b[0m \u001b[0mKeyError\u001b[0m\u001b[1;33m:\u001b[0m\u001b[1;33m\u001b[0m\u001b[1;33m\u001b[0m\u001b[0m\n\u001b[1;32m---> 98\u001b[1;33m             \u001b[1;32mraise\u001b[0m \u001b[0mAttributeError\u001b[0m\u001b[1;33m(\u001b[0m\u001b[0mkey\u001b[0m\u001b[1;33m)\u001b[0m\u001b[1;33m\u001b[0m\u001b[1;33m\u001b[0m\u001b[0m\n\u001b[0m\u001b[0;32m     99\u001b[0m \u001b[1;33m\u001b[0m\u001b[0m\n\u001b[0;32m    100\u001b[0m     \u001b[1;32mdef\u001b[0m \u001b[0m__setstate__\u001b[0m\u001b[1;33m(\u001b[0m\u001b[0mself\u001b[0m\u001b[1;33m,\u001b[0m \u001b[0mstate\u001b[0m\u001b[1;33m)\u001b[0m\u001b[1;33m:\u001b[0m\u001b[1;33m\u001b[0m\u001b[1;33m\u001b[0m\u001b[0m\n",
      "\u001b[1;31mAttributeError\u001b[0m: info"
     ]
    }
   ],
   "source": [
    "data.info()"
   ]
  },
  {
   "cell_type": "code",
   "execution_count": 59,
   "metadata": {},
   "outputs": [
    {
     "data": {
      "text/plain": [
       "{'data': array([[ 0.03807591,  0.05068012,  0.06169621, ..., -0.00259226,\n",
       "          0.01990842, -0.01764613],\n",
       "        [-0.00188202, -0.04464164, -0.05147406, ..., -0.03949338,\n",
       "         -0.06832974, -0.09220405],\n",
       "        [ 0.08529891,  0.05068012,  0.04445121, ..., -0.00259226,\n",
       "          0.00286377, -0.02593034],\n",
       "        ...,\n",
       "        [ 0.04170844,  0.05068012, -0.01590626, ..., -0.01107952,\n",
       "         -0.04687948,  0.01549073],\n",
       "        [-0.04547248, -0.04464164,  0.03906215, ...,  0.02655962,\n",
       "          0.04452837, -0.02593034],\n",
       "        [-0.04547248, -0.04464164, -0.0730303 , ..., -0.03949338,\n",
       "         -0.00421986,  0.00306441]]),\n",
       " 'target': array([151.,  75., 141., 206., 135.,  97., 138.,  63., 110., 310., 101.,\n",
       "         69., 179., 185., 118., 171., 166., 144.,  97., 168.,  68.,  49.,\n",
       "         68., 245., 184., 202., 137.,  85., 131., 283., 129.,  59., 341.,\n",
       "         87.,  65., 102., 265., 276., 252.,  90., 100.,  55.,  61.,  92.,\n",
       "        259.,  53., 190., 142.,  75., 142., 155., 225.,  59., 104., 182.,\n",
       "        128.,  52.,  37., 170., 170.,  61., 144.,  52., 128.,  71., 163.,\n",
       "        150.,  97., 160., 178.,  48., 270., 202., 111.,  85.,  42., 170.,\n",
       "        200., 252., 113., 143.,  51.,  52., 210.,  65., 141.,  55., 134.,\n",
       "         42., 111.,  98., 164.,  48.,  96.,  90., 162., 150., 279.,  92.,\n",
       "         83., 128., 102., 302., 198.,  95.,  53., 134., 144., 232.,  81.,\n",
       "        104.,  59., 246., 297., 258., 229., 275., 281., 179., 200., 200.,\n",
       "        173., 180.,  84., 121., 161.,  99., 109., 115., 268., 274., 158.,\n",
       "        107.,  83., 103., 272.,  85., 280., 336., 281., 118., 317., 235.,\n",
       "         60., 174., 259., 178., 128.,  96., 126., 288.,  88., 292.,  71.,\n",
       "        197., 186.,  25.,  84.,  96., 195.,  53., 217., 172., 131., 214.,\n",
       "         59.,  70., 220., 268., 152.,  47.,  74., 295., 101., 151., 127.,\n",
       "        237., 225.,  81., 151., 107.,  64., 138., 185., 265., 101., 137.,\n",
       "        143., 141.,  79., 292., 178.,  91., 116.,  86., 122.,  72., 129.,\n",
       "        142.,  90., 158.,  39., 196., 222., 277.,  99., 196., 202., 155.,\n",
       "         77., 191.,  70.,  73.,  49.,  65., 263., 248., 296., 214., 185.,\n",
       "         78.,  93., 252., 150.,  77., 208.,  77., 108., 160.,  53., 220.,\n",
       "        154., 259.,  90., 246., 124.,  67.,  72., 257., 262., 275., 177.,\n",
       "         71.,  47., 187., 125.,  78.,  51., 258., 215., 303., 243.,  91.,\n",
       "        150., 310., 153., 346.,  63.,  89.,  50.,  39., 103., 308., 116.,\n",
       "        145.,  74.,  45., 115., 264.,  87., 202., 127., 182., 241.,  66.,\n",
       "         94., 283.,  64., 102., 200., 265.,  94., 230., 181., 156., 233.,\n",
       "         60., 219.,  80.,  68., 332., 248.,  84., 200.,  55.,  85.,  89.,\n",
       "         31., 129.,  83., 275.,  65., 198., 236., 253., 124.,  44., 172.,\n",
       "        114., 142., 109., 180., 144., 163., 147.,  97., 220., 190., 109.,\n",
       "        191., 122., 230., 242., 248., 249., 192., 131., 237.,  78., 135.,\n",
       "        244., 199., 270., 164.,  72.,  96., 306.,  91., 214.,  95., 216.,\n",
       "        263., 178., 113., 200., 139., 139.,  88., 148.,  88., 243.,  71.,\n",
       "         77., 109., 272.,  60.,  54., 221.,  90., 311., 281., 182., 321.,\n",
       "         58., 262., 206., 233., 242., 123., 167.,  63., 197.,  71., 168.,\n",
       "        140., 217., 121., 235., 245.,  40.,  52., 104., 132.,  88.,  69.,\n",
       "        219.,  72., 201., 110.,  51., 277.,  63., 118.,  69., 273., 258.,\n",
       "         43., 198., 242., 232., 175.,  93., 168., 275., 293., 281.,  72.,\n",
       "        140., 189., 181., 209., 136., 261., 113., 131., 174., 257.,  55.,\n",
       "         84.,  42., 146., 212., 233.,  91., 111., 152., 120.,  67., 310.,\n",
       "         94., 183.,  66., 173.,  72.,  49.,  64.,  48., 178., 104., 132.,\n",
       "        220.,  57.]),\n",
       " 'frame': None,\n",
       " 'DESCR': '.. _diabetes_dataset:\\n\\nDiabetes dataset\\n----------------\\n\\nTen baseline variables, age, sex, body mass index, average blood\\npressure, and six blood serum measurements were obtained for each of n =\\n442 diabetes patients, as well as the response of interest, a\\nquantitative measure of disease progression one year after baseline.\\n\\n**Data Set Characteristics:**\\n\\n  :Number of Instances: 442\\n\\n  :Number of Attributes: First 10 columns are numeric predictive values\\n\\n  :Target: Column 11 is a quantitative measure of disease progression one year after baseline\\n\\n  :Attribute Information:\\n      - age     age in years\\n      - sex\\n      - bmi     body mass index\\n      - bp      average blood pressure\\n      - s1      tc, T-Cells (a type of white blood cells)\\n      - s2      ldl, low-density lipoproteins\\n      - s3      hdl, high-density lipoproteins\\n      - s4      tch, thyroid stimulating hormone\\n      - s5      ltg, lamotrigine\\n      - s6      glu, blood sugar level\\n\\nNote: Each of these 10 feature variables have been mean centered and scaled by the standard deviation times `n_samples` (i.e. the sum of squares of each column totals 1).\\n\\nSource URL:\\nhttps://www4.stat.ncsu.edu/~boos/var.select/diabetes.html\\n\\nFor more information see:\\nBradley Efron, Trevor Hastie, Iain Johnstone and Robert Tibshirani (2004) \"Least Angle Regression,\" Annals of Statistics (with discussion), 407-499.\\n(https://web.stanford.edu/~hastie/Papers/LARS/LeastAngle_2002.pdf)',\n",
       " 'feature_names': ['age',\n",
       "  'sex',\n",
       "  'bmi',\n",
       "  'bp',\n",
       "  's1',\n",
       "  's2',\n",
       "  's3',\n",
       "  's4',\n",
       "  's5',\n",
       "  's6'],\n",
       " 'data_filename': 'C:\\\\Users\\\\82109\\\\anaconda3\\\\lib\\\\site-packages\\\\sklearn\\\\datasets\\\\data\\\\diabetes_data.csv.gz',\n",
       " 'target_filename': 'C:\\\\Users\\\\82109\\\\anaconda3\\\\lib\\\\site-packages\\\\sklearn\\\\datasets\\\\data\\\\diabetes_target.csv.gz'}"
      ]
     },
     "execution_count": 59,
     "metadata": {},
     "output_type": "execute_result"
    }
   ],
   "source": [
    "data"
   ]
  },
  {
   "cell_type": "code",
   "execution_count": 60,
   "metadata": {},
   "outputs": [
    {
     "data": {
      "text/plain": [
       "'.. _diabetes_dataset:\\n\\nDiabetes dataset\\n----------------\\n\\nTen baseline variables, age, sex, body mass index, average blood\\npressure, and six blood serum measurements were obtained for each of n =\\n442 diabetes patients, as well as the response of interest, a\\nquantitative measure of disease progression one year after baseline.\\n\\n**Data Set Characteristics:**\\n\\n  :Number of Instances: 442\\n\\n  :Number of Attributes: First 10 columns are numeric predictive values\\n\\n  :Target: Column 11 is a quantitative measure of disease progression one year after baseline\\n\\n  :Attribute Information:\\n      - age     age in years\\n      - sex\\n      - bmi     body mass index\\n      - bp      average blood pressure\\n      - s1      tc, T-Cells (a type of white blood cells)\\n      - s2      ldl, low-density lipoproteins\\n      - s3      hdl, high-density lipoproteins\\n      - s4      tch, thyroid stimulating hormone\\n      - s5      ltg, lamotrigine\\n      - s6      glu, blood sugar level\\n\\nNote: Each of these 10 feature variables have been mean centered and scaled by the standard deviation times `n_samples` (i.e. the sum of squares of each column totals 1).\\n\\nSource URL:\\nhttps://www4.stat.ncsu.edu/~boos/var.select/diabetes.html\\n\\nFor more information see:\\nBradley Efron, Trevor Hastie, Iain Johnstone and Robert Tibshirani (2004) \"Least Angle Regression,\" Annals of Statistics (with discussion), 407-499.\\n(https://web.stanford.edu/~hastie/Papers/LARS/LeastAngle_2002.pdf)'"
      ]
     },
     "execution_count": 60,
     "metadata": {},
     "output_type": "execute_result"
    }
   ],
   "source": [
    "data.DESCR"
   ]
  },
  {
   "cell_type": "code",
   "execution_count": 61,
   "metadata": {},
   "outputs": [
    {
     "data": {
      "text/plain": [
       "(442, 10)"
      ]
     },
     "execution_count": 61,
     "metadata": {},
     "output_type": "execute_result"
    }
   ],
   "source": [
    "data.data.shape"
   ]
  },
  {
   "cell_type": "code",
   "execution_count": 62,
   "metadata": {},
   "outputs": [
    {
     "data": {
      "text/plain": [
       "array([151.,  75., 141., 206., 135.,  97., 138.,  63., 110., 310., 101.,\n",
       "        69., 179., 185., 118., 171., 166., 144.,  97., 168.,  68.,  49.,\n",
       "        68., 245., 184., 202., 137.,  85., 131., 283., 129.,  59., 341.,\n",
       "        87.,  65., 102., 265., 276., 252.,  90., 100.,  55.,  61.,  92.,\n",
       "       259.,  53., 190., 142.,  75., 142., 155., 225.,  59., 104., 182.,\n",
       "       128.,  52.,  37., 170., 170.,  61., 144.,  52., 128.,  71., 163.,\n",
       "       150.,  97., 160., 178.,  48., 270., 202., 111.,  85.,  42., 170.,\n",
       "       200., 252., 113., 143.,  51.,  52., 210.,  65., 141.,  55., 134.,\n",
       "        42., 111.,  98., 164.,  48.,  96.,  90., 162., 150., 279.,  92.,\n",
       "        83., 128., 102., 302., 198.,  95.,  53., 134., 144., 232.,  81.,\n",
       "       104.,  59., 246., 297., 258., 229., 275., 281., 179., 200., 200.,\n",
       "       173., 180.,  84., 121., 161.,  99., 109., 115., 268., 274., 158.,\n",
       "       107.,  83., 103., 272.,  85., 280., 336., 281., 118., 317., 235.,\n",
       "        60., 174., 259., 178., 128.,  96., 126., 288.,  88., 292.,  71.,\n",
       "       197., 186.,  25.,  84.,  96., 195.,  53., 217., 172., 131., 214.,\n",
       "        59.,  70., 220., 268., 152.,  47.,  74., 295., 101., 151., 127.,\n",
       "       237., 225.,  81., 151., 107.,  64., 138., 185., 265., 101., 137.,\n",
       "       143., 141.,  79., 292., 178.,  91., 116.,  86., 122.,  72., 129.,\n",
       "       142.,  90., 158.,  39., 196., 222., 277.,  99., 196., 202., 155.,\n",
       "        77., 191.,  70.,  73.,  49.,  65., 263., 248., 296., 214., 185.,\n",
       "        78.,  93., 252., 150.,  77., 208.,  77., 108., 160.,  53., 220.,\n",
       "       154., 259.,  90., 246., 124.,  67.,  72., 257., 262., 275., 177.,\n",
       "        71.,  47., 187., 125.,  78.,  51., 258., 215., 303., 243.,  91.,\n",
       "       150., 310., 153., 346.,  63.,  89.,  50.,  39., 103., 308., 116.,\n",
       "       145.,  74.,  45., 115., 264.,  87., 202., 127., 182., 241.,  66.,\n",
       "        94., 283.,  64., 102., 200., 265.,  94., 230., 181., 156., 233.,\n",
       "        60., 219.,  80.,  68., 332., 248.,  84., 200.,  55.,  85.,  89.,\n",
       "        31., 129.,  83., 275.,  65., 198., 236., 253., 124.,  44., 172.,\n",
       "       114., 142., 109., 180., 144., 163., 147.,  97., 220., 190., 109.,\n",
       "       191., 122., 230., 242., 248., 249., 192., 131., 237.,  78., 135.,\n",
       "       244., 199., 270., 164.,  72.,  96., 306.,  91., 214.,  95., 216.,\n",
       "       263., 178., 113., 200., 139., 139.,  88., 148.,  88., 243.,  71.,\n",
       "        77., 109., 272.,  60.,  54., 221.,  90., 311., 281., 182., 321.,\n",
       "        58., 262., 206., 233., 242., 123., 167.,  63., 197.,  71., 168.,\n",
       "       140., 217., 121., 235., 245.,  40.,  52., 104., 132.,  88.,  69.,\n",
       "       219.,  72., 201., 110.,  51., 277.,  63., 118.,  69., 273., 258.,\n",
       "        43., 198., 242., 232., 175.,  93., 168., 275., 293., 281.,  72.,\n",
       "       140., 189., 181., 209., 136., 261., 113., 131., 174., 257.,  55.,\n",
       "        84.,  42., 146., 212., 233.,  91., 111., 152., 120.,  67., 310.,\n",
       "        94., 183.,  66., 173.,  72.,  49.,  64.,  48., 178., 104., 132.,\n",
       "       220.,  57.])"
      ]
     },
     "execution_count": 62,
     "metadata": {},
     "output_type": "execute_result"
    }
   ],
   "source": [
    "data.target\n"
   ]
  },
  {
   "cell_type": "code",
   "execution_count": 63,
   "metadata": {},
   "outputs": [
    {
     "ename": "AttributeError",
     "evalue": "key",
     "output_type": "error",
     "traceback": [
      "\u001b[1;31m---------------------------------------------------------------------------\u001b[0m",
      "\u001b[1;31mKeyError\u001b[0m                                  Traceback (most recent call last)",
      "\u001b[1;32m~\\anaconda3\\lib\\site-packages\\sklearn\\utils\\__init__.py\u001b[0m in \u001b[0;36m__getattr__\u001b[1;34m(self, key)\u001b[0m\n\u001b[0;32m     95\u001b[0m         \u001b[1;32mtry\u001b[0m\u001b[1;33m:\u001b[0m\u001b[1;33m\u001b[0m\u001b[1;33m\u001b[0m\u001b[0m\n\u001b[1;32m---> 96\u001b[1;33m             \u001b[1;32mreturn\u001b[0m \u001b[0mself\u001b[0m\u001b[1;33m[\u001b[0m\u001b[0mkey\u001b[0m\u001b[1;33m]\u001b[0m\u001b[1;33m\u001b[0m\u001b[1;33m\u001b[0m\u001b[0m\n\u001b[0m\u001b[0;32m     97\u001b[0m         \u001b[1;32mexcept\u001b[0m \u001b[0mKeyError\u001b[0m\u001b[1;33m:\u001b[0m\u001b[1;33m\u001b[0m\u001b[1;33m\u001b[0m\u001b[0m\n",
      "\u001b[1;31mKeyError\u001b[0m: 'key'",
      "\nDuring handling of the above exception, another exception occurred:\n",
      "\u001b[1;31mAttributeError\u001b[0m                            Traceback (most recent call last)",
      "\u001b[1;32m<ipython-input-63-0249df1cf745>\u001b[0m in \u001b[0;36m<module>\u001b[1;34m\u001b[0m\n\u001b[1;32m----> 1\u001b[1;33m \u001b[0mdata\u001b[0m\u001b[1;33m.\u001b[0m\u001b[0mkey\u001b[0m\u001b[1;33m(\u001b[0m\u001b[1;33m)\u001b[0m\u001b[1;33m\u001b[0m\u001b[1;33m\u001b[0m\u001b[0m\n\u001b[0m",
      "\u001b[1;32m~\\anaconda3\\lib\\site-packages\\sklearn\\utils\\__init__.py\u001b[0m in \u001b[0;36m__getattr__\u001b[1;34m(self, key)\u001b[0m\n\u001b[0;32m     96\u001b[0m             \u001b[1;32mreturn\u001b[0m \u001b[0mself\u001b[0m\u001b[1;33m[\u001b[0m\u001b[0mkey\u001b[0m\u001b[1;33m]\u001b[0m\u001b[1;33m\u001b[0m\u001b[1;33m\u001b[0m\u001b[0m\n\u001b[0;32m     97\u001b[0m         \u001b[1;32mexcept\u001b[0m \u001b[0mKeyError\u001b[0m\u001b[1;33m:\u001b[0m\u001b[1;33m\u001b[0m\u001b[1;33m\u001b[0m\u001b[0m\n\u001b[1;32m---> 98\u001b[1;33m             \u001b[1;32mraise\u001b[0m \u001b[0mAttributeError\u001b[0m\u001b[1;33m(\u001b[0m\u001b[0mkey\u001b[0m\u001b[1;33m)\u001b[0m\u001b[1;33m\u001b[0m\u001b[1;33m\u001b[0m\u001b[0m\n\u001b[0m\u001b[0;32m     99\u001b[0m \u001b[1;33m\u001b[0m\u001b[0m\n\u001b[0;32m    100\u001b[0m     \u001b[1;32mdef\u001b[0m \u001b[0m__setstate__\u001b[0m\u001b[1;33m(\u001b[0m\u001b[0mself\u001b[0m\u001b[1;33m,\u001b[0m \u001b[0mstate\u001b[0m\u001b[1;33m)\u001b[0m\u001b[1;33m:\u001b[0m\u001b[1;33m\u001b[0m\u001b[1;33m\u001b[0m\u001b[0m\n",
      "\u001b[1;31mAttributeError\u001b[0m: key"
     ]
    }
   ],
   "source": [
    "data.key()"
   ]
  },
  {
   "cell_type": "code",
   "execution_count": 64,
   "metadata": {},
   "outputs": [
    {
     "data": {
      "text/plain": [
       "dict_keys(['data', 'target', 'frame', 'DESCR', 'feature_names', 'data_filename', 'target_filename'])"
      ]
     },
     "execution_count": 64,
     "metadata": {},
     "output_type": "execute_result"
    }
   ],
   "source": [
    "data.keys()"
   ]
  },
  {
   "cell_type": "code",
   "execution_count": 65,
   "metadata": {},
   "outputs": [
    {
     "ename": "AttributeError",
     "evalue": "'numpy.ndarray' object has no attribute 'DESCR'",
     "output_type": "error",
     "traceback": [
      "\u001b[1;31m---------------------------------------------------------------------------\u001b[0m",
      "\u001b[1;31mAttributeError\u001b[0m                            Traceback (most recent call last)",
      "\u001b[1;32m<ipython-input-65-e5655fb7c34a>\u001b[0m in \u001b[0;36m<module>\u001b[1;34m\u001b[0m\n\u001b[1;32m----> 1\u001b[1;33m \u001b[0mdata\u001b[0m\u001b[1;33m.\u001b[0m\u001b[0mdata\u001b[0m\u001b[1;33m.\u001b[0m\u001b[0mDESCR\u001b[0m\u001b[1;33m\u001b[0m\u001b[1;33m\u001b[0m\u001b[0m\n\u001b[0m",
      "\u001b[1;31mAttributeError\u001b[0m: 'numpy.ndarray' object has no attribute 'DESCR'"
     ]
    }
   ],
   "source": [
    "data.data.DESCR"
   ]
  },
  {
   "cell_type": "code",
   "execution_count": 67,
   "metadata": {},
   "outputs": [
    {
     "name": "stdout",
     "output_type": "stream",
     "text": [
      "정규화 선형회귀 모댈별 가중치(계수) 비교\n"
     ]
    },
    {
     "data": {
      "text/html": [
       "<div>\n",
       "<style scoped>\n",
       "    .dataframe tbody tr th:only-of-type {\n",
       "        vertical-align: middle;\n",
       "    }\n",
       "\n",
       "    .dataframe tbody tr th {\n",
       "        vertical-align: top;\n",
       "    }\n",
       "\n",
       "    .dataframe thead th {\n",
       "        text-align: right;\n",
       "    }\n",
       "</style>\n",
       "<table border=\"1\" class=\"dataframe\">\n",
       "  <thead>\n",
       "    <tr style=\"text-align: right;\">\n",
       "      <th></th>\n",
       "      <th>age</th>\n",
       "      <th>sex</th>\n",
       "      <th>bmi</th>\n",
       "      <th>bp</th>\n",
       "      <th>s1</th>\n",
       "      <th>s2</th>\n",
       "      <th>s3</th>\n",
       "      <th>s4</th>\n",
       "      <th>s5</th>\n",
       "      <th>s6</th>\n",
       "    </tr>\n",
       "  </thead>\n",
       "  <tbody>\n",
       "    <tr>\n",
       "      <th>linear</th>\n",
       "      <td>47.746571</td>\n",
       "      <td>-241.991804</td>\n",
       "      <td>531.968569</td>\n",
       "      <td>381.565299</td>\n",
       "      <td>-918.490206</td>\n",
       "      <td>508.251474</td>\n",
       "      <td>116.940405</td>\n",
       "      <td>269.485086</td>\n",
       "      <td>695.806221</td>\n",
       "      <td>26.323431</td>\n",
       "    </tr>\n",
       "    <tr>\n",
       "      <th>ridge</th>\n",
       "      <td>50.551555</td>\n",
       "      <td>-67.722365</td>\n",
       "      <td>278.300728</td>\n",
       "      <td>197.624014</td>\n",
       "      <td>-6.245973</td>\n",
       "      <td>-26.226985</td>\n",
       "      <td>-151.394518</td>\n",
       "      <td>120.323196</td>\n",
       "      <td>215.854694</td>\n",
       "      <td>101.755543</td>\n",
       "    </tr>\n",
       "    <tr>\n",
       "      <th>lasso</th>\n",
       "      <td>0.000000</td>\n",
       "      <td>-0.000000</td>\n",
       "      <td>398.384368</td>\n",
       "      <td>46.178843</td>\n",
       "      <td>0.000000</td>\n",
       "      <td>0.000000</td>\n",
       "      <td>-0.000000</td>\n",
       "      <td>0.000000</td>\n",
       "      <td>238.187402</td>\n",
       "      <td>0.000000</td>\n",
       "    </tr>\n",
       "    <tr>\n",
       "      <th>elastic</th>\n",
       "      <td>0.413088</td>\n",
       "      <td>0.000000</td>\n",
       "      <td>3.298991</td>\n",
       "      <td>2.256939</td>\n",
       "      <td>0.339380</td>\n",
       "      <td>0.080784</td>\n",
       "      <td>-1.874661</td>\n",
       "      <td>2.143869</td>\n",
       "      <td>2.947964</td>\n",
       "      <td>1.701981</td>\n",
       "    </tr>\n",
       "  </tbody>\n",
       "</table>\n",
       "</div>"
      ],
      "text/plain": [
       "               age         sex         bmi          bp          s1  \\\n",
       "linear   47.746571 -241.991804  531.968569  381.565299 -918.490206   \n",
       "ridge    50.551555  -67.722365  278.300728  197.624014   -6.245973   \n",
       "lasso     0.000000   -0.000000  398.384368   46.178843    0.000000   \n",
       "elastic   0.413088    0.000000    3.298991    2.256939    0.339380   \n",
       "\n",
       "                 s2          s3          s4          s5          s6  \n",
       "linear   508.251474  116.940405  269.485086  695.806221   26.323431  \n",
       "ridge    -26.226985 -151.394518  120.323196  215.854694  101.755543  \n",
       "lasso      0.000000   -0.000000    0.000000  238.187402    0.000000  \n",
       "elastic    0.080784   -1.874661    2.143869    2.947964    1.701981  "
      ]
     },
     "execution_count": 67,
     "metadata": {},
     "output_type": "execute_result"
    }
   ],
   "source": [
    "# 정규화 선형회귀 모델별 가중치(계수) 비교\n",
    "from sklearn.linear_model import LinearRegression\n",
    "import pandas as pd\n",
    "import numpy as np\n",
    "# 선형 모델을 비교하기 위해 생성\n",
    "linear = LinearRegression()\n",
    "linear.fit(X_train, y_train)\n",
    "# 계수를 핚 문에 비교하기 위핚 DataFrame\n",
    "coefs = np.vstack((linear.coef_, ridge.coef_, lasso.coef_, elastic.coef_))\n",
    "index = ['linear', 'ridge', 'lasso', 'elastic']\n",
    "coefs_df = pd.DataFrame(coefs, columns=data.feature_names, index=index)\n",
    "print(\"정규화 선형회귀 모댈별 가중치(계수) 비교\")\n",
    "coefs_df"
   ]
  },
  {
   "cell_type": "code",
   "execution_count": 72,
   "metadata": {},
   "outputs": [
    {
     "name": "stdout",
     "output_type": "stream",
     "text": [
      "Boston 데이타셋 크기 : (506, 14)\n"
     ]
    },
    {
     "data": {
      "text/html": [
       "<div>\n",
       "<style scoped>\n",
       "    .dataframe tbody tr th:only-of-type {\n",
       "        vertical-align: middle;\n",
       "    }\n",
       "\n",
       "    .dataframe tbody tr th {\n",
       "        vertical-align: top;\n",
       "    }\n",
       "\n",
       "    .dataframe thead th {\n",
       "        text-align: right;\n",
       "    }\n",
       "</style>\n",
       "<table border=\"1\" class=\"dataframe\">\n",
       "  <thead>\n",
       "    <tr style=\"text-align: right;\">\n",
       "      <th></th>\n",
       "      <th>CRIM</th>\n",
       "      <th>ZN</th>\n",
       "      <th>INDUS</th>\n",
       "      <th>CHAS</th>\n",
       "      <th>NOX</th>\n",
       "      <th>RM</th>\n",
       "      <th>AGE</th>\n",
       "      <th>DIS</th>\n",
       "      <th>RAD</th>\n",
       "      <th>TAX</th>\n",
       "      <th>PTRATIO</th>\n",
       "      <th>B</th>\n",
       "      <th>LSTAT</th>\n",
       "      <th>PRICE</th>\n",
       "    </tr>\n",
       "  </thead>\n",
       "  <tbody>\n",
       "    <tr>\n",
       "      <th>0</th>\n",
       "      <td>0.00632</td>\n",
       "      <td>18.0</td>\n",
       "      <td>2.31</td>\n",
       "      <td>0.0</td>\n",
       "      <td>0.538</td>\n",
       "      <td>6.575</td>\n",
       "      <td>65.2</td>\n",
       "      <td>4.0900</td>\n",
       "      <td>1.0</td>\n",
       "      <td>296.0</td>\n",
       "      <td>15.3</td>\n",
       "      <td>396.90</td>\n",
       "      <td>4.98</td>\n",
       "      <td>24.0</td>\n",
       "    </tr>\n",
       "    <tr>\n",
       "      <th>1</th>\n",
       "      <td>0.02731</td>\n",
       "      <td>0.0</td>\n",
       "      <td>7.07</td>\n",
       "      <td>0.0</td>\n",
       "      <td>0.469</td>\n",
       "      <td>6.421</td>\n",
       "      <td>78.9</td>\n",
       "      <td>4.9671</td>\n",
       "      <td>2.0</td>\n",
       "      <td>242.0</td>\n",
       "      <td>17.8</td>\n",
       "      <td>396.90</td>\n",
       "      <td>9.14</td>\n",
       "      <td>21.6</td>\n",
       "    </tr>\n",
       "    <tr>\n",
       "      <th>2</th>\n",
       "      <td>0.02729</td>\n",
       "      <td>0.0</td>\n",
       "      <td>7.07</td>\n",
       "      <td>0.0</td>\n",
       "      <td>0.469</td>\n",
       "      <td>7.185</td>\n",
       "      <td>61.1</td>\n",
       "      <td>4.9671</td>\n",
       "      <td>2.0</td>\n",
       "      <td>242.0</td>\n",
       "      <td>17.8</td>\n",
       "      <td>392.83</td>\n",
       "      <td>4.03</td>\n",
       "      <td>34.7</td>\n",
       "    </tr>\n",
       "    <tr>\n",
       "      <th>3</th>\n",
       "      <td>0.03237</td>\n",
       "      <td>0.0</td>\n",
       "      <td>2.18</td>\n",
       "      <td>0.0</td>\n",
       "      <td>0.458</td>\n",
       "      <td>6.998</td>\n",
       "      <td>45.8</td>\n",
       "      <td>6.0622</td>\n",
       "      <td>3.0</td>\n",
       "      <td>222.0</td>\n",
       "      <td>18.7</td>\n",
       "      <td>394.63</td>\n",
       "      <td>2.94</td>\n",
       "      <td>33.4</td>\n",
       "    </tr>\n",
       "    <tr>\n",
       "      <th>4</th>\n",
       "      <td>0.06905</td>\n",
       "      <td>0.0</td>\n",
       "      <td>2.18</td>\n",
       "      <td>0.0</td>\n",
       "      <td>0.458</td>\n",
       "      <td>7.147</td>\n",
       "      <td>54.2</td>\n",
       "      <td>6.0622</td>\n",
       "      <td>3.0</td>\n",
       "      <td>222.0</td>\n",
       "      <td>18.7</td>\n",
       "      <td>396.90</td>\n",
       "      <td>5.33</td>\n",
       "      <td>36.2</td>\n",
       "    </tr>\n",
       "  </tbody>\n",
       "</table>\n",
       "</div>"
      ],
      "text/plain": [
       "      CRIM    ZN  INDUS  CHAS    NOX     RM   AGE     DIS  RAD    TAX  \\\n",
       "0  0.00632  18.0   2.31   0.0  0.538  6.575  65.2  4.0900  1.0  296.0   \n",
       "1  0.02731   0.0   7.07   0.0  0.469  6.421  78.9  4.9671  2.0  242.0   \n",
       "2  0.02729   0.0   7.07   0.0  0.469  7.185  61.1  4.9671  2.0  242.0   \n",
       "3  0.03237   0.0   2.18   0.0  0.458  6.998  45.8  6.0622  3.0  222.0   \n",
       "4  0.06905   0.0   2.18   0.0  0.458  7.147  54.2  6.0622  3.0  222.0   \n",
       "\n",
       "   PTRATIO       B  LSTAT  PRICE  \n",
       "0     15.3  396.90   4.98   24.0  \n",
       "1     17.8  396.90   9.14   21.6  \n",
       "2     17.8  392.83   4.03   34.7  \n",
       "3     18.7  394.63   2.94   33.4  \n",
       "4     18.7  396.90   5.33   36.2  "
      ]
     },
     "execution_count": 72,
     "metadata": {},
     "output_type": "execute_result"
    }
   ],
   "source": [
    "import numpy as np\n",
    "import matplotlib.pyplot as plt\n",
    "import pandas as pd\n",
    "import seaborn as sns\n",
    "from scipy import stats\n",
    "from sklearn.datasets import load_boston\n",
    "%matplotlib inline\n",
    "# boston 데이타셋 로드\n",
    "boston = load_boston()\n",
    "# boston 데이타셋 DataFrame 변홖\n",
    "bostonDF = pd.DataFrame(boston.data , columns = boston.feature_names)\n",
    "# boston dataset의 target array는 주택 가격임. 이를 PRICE 컬럼으로 DataFrame에 추가함\n",
    "bostonDF['PRICE'] = boston.target\n",
    "print('Boston 데이타셋 크기 :',bostonDF.shape)\n",
    "bostonDF.head()"
   ]
  },
  {
   "cell_type": "code",
   "execution_count": 73,
   "metadata": {},
   "outputs": [
    {
     "data": {
      "image/png": "[encoded data removed]",
      "text/plain": [
       "<Figure size 1152x576 with 8 Axes>"
      ]
     },
     "metadata": {
      "needs_background": "light"
     },
     "output_type": "display_data"
    }
   ],
   "source": [
    "import seaborn as sns\n",
    "fig, axs = plt.subplots(figsize=(16,8) , ncols=4 , nrows=2)\n",
    "lm_features = ['RM','ZN','INDUS','NOX','AGE','PTRATIO','LSTAT','RAD']\n",
    "for i , feature in enumerate(lm_features):\n",
    "    row = int(i/4)\n",
    "    col = i%4\n",
    "    sns.regplot(x=feature , y='PRICE',data=bostonDF , ax=axs[row][col])\n"
   ]
  },
  {
   "cell_type": "code",
   "execution_count": null,
   "metadata": {},
   "outputs": [],
   "source": []
  }
 ],
 "metadata": {
  "kernelspec": {
   "display_name": "Python 3",
   "language": "python",
   "name": "python3"
  },
  "language_info": {
   "codemirror_mode": {
    "name": "ipython",
    "version": 3
   },
   "file_extension": ".py",
   "mimetype": "text/x-python",
   "name": "python",
   "nbconvert_exporter": "python",
   "pygments_lexer": "ipython3",
   "version": "3.8.5"
  }
 },
 "nbformat": 4,
 "nbformat_minor": 4
}
